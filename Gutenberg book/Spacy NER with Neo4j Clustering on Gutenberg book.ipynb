{
 "cells": [
  {
   "cell_type": "code",
   "execution_count": 1,
   "id": "264d9935",
   "metadata": {},
   "outputs": [
    {
     "name": "stdout",
     "output_type": "stream",
     "text": [
      "Collecting neo4j\n",
      "  Using cached neo4j-4.4.5.tar.gz (95 kB)\n",
      "Collecting spacy\n",
      "  Downloading spacy-3.3.1-cp38-cp38-win_amd64.whl (12.1 MB)\n",
      "Requirement already satisfied: pytz in c:\\users\\younes\\anaconda3\\lib\\site-packages (from neo4j) (2021.1)\n",
      "Collecting spacy-legacy<3.1.0,>=3.0.9\n",
      "  Using cached spacy_legacy-3.0.9-py2.py3-none-any.whl (20 kB)\n",
      "Requirement already satisfied: numpy>=1.15.0 in c:\\users\\younes\\anaconda3\\lib\\site-packages (from spacy) (1.20.1)\n",
      "Collecting murmurhash<1.1.0,>=0.28.0\n",
      "  Downloading murmurhash-1.0.7-cp38-cp38-win_amd64.whl (18 kB)\n",
      "Collecting spacy-loggers<2.0.0,>=1.0.0\n",
      "  Using cached spacy_loggers-1.0.2-py3-none-any.whl (7.2 kB)\n",
      "Collecting blis<0.8.0,>=0.4.0\n",
      "  Downloading blis-0.7.8-cp38-cp38-win_amd64.whl (6.6 MB)\n",
      "Collecting typer<0.5.0,>=0.3.0\n",
      "  Using cached typer-0.4.2-py3-none-any.whl (27 kB)\n",
      "Requirement already satisfied: requests<3.0.0,>=2.13.0 in c:\\users\\younes\\anaconda3\\lib\\site-packages (from spacy) (2.25.1)\n",
      "Collecting pydantic!=1.8,!=1.8.1,<1.9.0,>=1.7.4\n",
      "  Downloading pydantic-1.8.2-cp38-cp38-win_amd64.whl (2.0 MB)\n",
      "Collecting wasabi<1.1.0,>=0.9.1\n",
      "  Using cached wasabi-0.9.1-py3-none-any.whl (26 kB)\n",
      "Collecting preshed<3.1.0,>=3.0.2\n",
      "  Downloading preshed-3.0.6-cp38-cp38-win_amd64.whl (113 kB)\n",
      "Requirement already satisfied: setuptools in c:\\users\\younes\\anaconda3\\lib\\site-packages (from spacy) (52.0.0.post20210125)\n",
      "Requirement already satisfied: tqdm<5.0.0,>=4.38.0 in c:\\users\\younes\\anaconda3\\lib\\site-packages (from spacy) (4.59.0)\n",
      "Collecting pathy>=0.3.5\n",
      "  Using cached pathy-0.6.2-py3-none-any.whl (42 kB)\n",
      "Collecting catalogue<2.1.0,>=2.0.6\n",
      "  Using cached catalogue-2.0.7-py3-none-any.whl (17 kB)\n",
      "Collecting cymem<2.1.0,>=2.0.2\n",
      "  Downloading cymem-2.0.6-cp38-cp38-win_amd64.whl (36 kB)\n",
      "Requirement already satisfied: jinja2 in c:\\users\\younes\\anaconda3\\lib\\site-packages (from spacy) (2.11.3)\n",
      "Requirement already satisfied: packaging>=20.0 in c:\\users\\younes\\anaconda3\\lib\\site-packages (from spacy) (20.9)\n",
      "Collecting langcodes<4.0.0,>=3.2.0\n",
      "  Using cached langcodes-3.3.0-py3-none-any.whl (181 kB)\n",
      "Collecting thinc<8.1.0,>=8.0.14\n",
      "  Downloading thinc-8.0.17-cp38-cp38-win_amd64.whl (1.1 MB)\n",
      "Collecting srsly<3.0.0,>=2.4.3\n",
      "  Downloading srsly-2.4.3-cp38-cp38-win_amd64.whl (448 kB)\n",
      "Requirement already satisfied: pyparsing>=2.0.2 in c:\\users\\younes\\anaconda3\\lib\\site-packages (from packaging>=20.0->spacy) (2.4.7)\n",
      "Collecting smart-open<6.0.0,>=5.2.1\n",
      "  Using cached smart_open-5.2.1-py3-none-any.whl (58 kB)\n",
      "Requirement already satisfied: typing-extensions>=3.7.4.3 in c:\\users\\younes\\anaconda3\\lib\\site-packages (from pydantic!=1.8,!=1.8.1,<1.9.0,>=1.7.4->spacy) (3.7.4.3)\n",
      "Requirement already satisfied: idna<3,>=2.5 in c:\\users\\younes\\anaconda3\\lib\\site-packages (from requests<3.0.0,>=2.13.0->spacy) (2.10)\n",
      "Requirement already satisfied: chardet<5,>=3.0.2 in c:\\users\\younes\\anaconda3\\lib\\site-packages (from requests<3.0.0,>=2.13.0->spacy) (4.0.0)\n",
      "Requirement already satisfied: certifi>=2017.4.17 in c:\\users\\younes\\anaconda3\\lib\\site-packages (from requests<3.0.0,>=2.13.0->spacy) (2020.12.5)\n",
      "Requirement already satisfied: urllib3<1.27,>=1.21.1 in c:\\users\\younes\\anaconda3\\lib\\site-packages (from requests<3.0.0,>=2.13.0->spacy) (1.26.4)\n",
      "Requirement already satisfied: click<9.0.0,>=7.1.1 in c:\\users\\younes\\anaconda3\\lib\\site-packages (from typer<0.5.0,>=0.3.0->spacy) (7.1.2)\n",
      "Requirement already satisfied: MarkupSafe>=0.23 in c:\\users\\younes\\anaconda3\\lib\\site-packages (from jinja2->spacy) (1.1.1)\n",
      "Building wheels for collected packages: neo4j\n",
      "  Building wheel for neo4j (setup.py): started\n",
      "  Building wheel for neo4j (setup.py): finished with status 'done'\n",
      "  Created wheel for neo4j: filename=neo4j-4.4.5-py3-none-any.whl size=123266 sha256=010146335da148a322a0ab70e14715b6433ccfa2cdb1201999f0ba176a047262\n",
      "  Stored in directory: c:\\users\\younes\\appdata\\local\\pip\\cache\\wheels\\cb\\88\\b1\\0034b8302eb9c4546287dc3c81b5493c0d609fc9ca59a35de6\n",
      "Successfully built neo4j\n",
      "Installing collected packages: murmurhash, cymem, catalogue, wasabi, typer, srsly, smart-open, pydantic, preshed, blis, thinc, spacy-loggers, spacy-legacy, pathy, langcodes, spacy, neo4j\n",
      "Successfully installed blis-0.7.8 catalogue-2.0.7 cymem-2.0.6 langcodes-3.3.0 murmurhash-1.0.7 neo4j-4.4.5 pathy-0.6.2 preshed-3.0.6 pydantic-1.8.2 smart-open-5.2.1 spacy-3.3.1 spacy-legacy-3.0.9 spacy-loggers-1.0.2 srsly-2.4.3 thinc-8.0.17 typer-0.4.2 wasabi-0.9.1\n",
      "Collecting en-core-web-lg==3.3.0\n",
      "  Downloading https://github.com/explosion/spacy-models/releases/download/en_core_web_lg-3.3.0/en_core_web_lg-3.3.0-py3-none-any.whl (400.7 MB)\n",
      "Requirement already satisfied: spacy<3.4.0,>=3.3.0.dev0 in c:\\users\\younes\\anaconda3\\lib\\site-packages (from en-core-web-lg==3.3.0) (3.3.1)\n",
      "Requirement already satisfied: srsly<3.0.0,>=2.4.3 in c:\\users\\younes\\anaconda3\\lib\\site-packages (from spacy<3.4.0,>=3.3.0.dev0->en-core-web-lg==3.3.0) (2.4.3)\n",
      "Requirement already satisfied: cymem<2.1.0,>=2.0.2 in c:\\users\\younes\\anaconda3\\lib\\site-packages (from spacy<3.4.0,>=3.3.0.dev0->en-core-web-lg==3.3.0) (2.0.6)\n",
      "Requirement already satisfied: pathy>=0.3.5 in c:\\users\\younes\\anaconda3\\lib\\site-packages (from spacy<3.4.0,>=3.3.0.dev0->en-core-web-lg==3.3.0) (0.6.2)\n",
      "Requirement already satisfied: packaging>=20.0 in c:\\users\\younes\\anaconda3\\lib\\site-packages (from spacy<3.4.0,>=3.3.0.dev0->en-core-web-lg==3.3.0) (20.9)\n",
      "Requirement already satisfied: jinja2 in c:\\users\\younes\\anaconda3\\lib\\site-packages (from spacy<3.4.0,>=3.3.0.dev0->en-core-web-lg==3.3.0) (2.11.3)\n",
      "Requirement already satisfied: spacy-legacy<3.1.0,>=3.0.9 in c:\\users\\younes\\anaconda3\\lib\\site-packages (from spacy<3.4.0,>=3.3.0.dev0->en-core-web-lg==3.3.0) (3.0.9)\n",
      "Requirement already satisfied: wasabi<1.1.0,>=0.9.1 in c:\\users\\younes\\anaconda3\\lib\\site-packages (from spacy<3.4.0,>=3.3.0.dev0->en-core-web-lg==3.3.0) (0.9.1)\n",
      "Requirement already satisfied: requests<3.0.0,>=2.13.0 in c:\\users\\younes\\anaconda3\\lib\\site-packages (from spacy<3.4.0,>=3.3.0.dev0->en-core-web-lg==3.3.0) (2.25.1)\n",
      "Requirement already satisfied: pydantic!=1.8,!=1.8.1,<1.9.0,>=1.7.4 in c:\\users\\younes\\anaconda3\\lib\\site-packages (from spacy<3.4.0,>=3.3.0.dev0->en-core-web-lg==3.3.0) (1.8.2)\n",
      "Requirement already satisfied: spacy-loggers<2.0.0,>=1.0.0 in c:\\users\\younes\\anaconda3\\lib\\site-packages (from spacy<3.4.0,>=3.3.0.dev0->en-core-web-lg==3.3.0) (1.0.2)\n",
      "Requirement already satisfied: tqdm<5.0.0,>=4.38.0 in c:\\users\\younes\\anaconda3\\lib\\site-packages (from spacy<3.4.0,>=3.3.0.dev0->en-core-web-lg==3.3.0) (4.59.0)\n",
      "Requirement already satisfied: preshed<3.1.0,>=3.0.2 in c:\\users\\younes\\anaconda3\\lib\\site-packages (from spacy<3.4.0,>=3.3.0.dev0->en-core-web-lg==3.3.0) (3.0.6)\n",
      "Requirement already satisfied: catalogue<2.1.0,>=2.0.6 in c:\\users\\younes\\anaconda3\\lib\\site-packages (from spacy<3.4.0,>=3.3.0.dev0->en-core-web-lg==3.3.0) (2.0.7)\n",
      "Requirement already satisfied: numpy>=1.15.0 in c:\\users\\younes\\anaconda3\\lib\\site-packages (from spacy<3.4.0,>=3.3.0.dev0->en-core-web-lg==3.3.0) (1.20.1)\n",
      "Requirement already satisfied: blis<0.8.0,>=0.4.0 in c:\\users\\younes\\anaconda3\\lib\\site-packages (from spacy<3.4.0,>=3.3.0.dev0->en-core-web-lg==3.3.0) (0.7.8)\n",
      "Requirement already satisfied: setuptools in c:\\users\\younes\\anaconda3\\lib\\site-packages (from spacy<3.4.0,>=3.3.0.dev0->en-core-web-lg==3.3.0) (52.0.0.post20210125)\n",
      "Requirement already satisfied: langcodes<4.0.0,>=3.2.0 in c:\\users\\younes\\anaconda3\\lib\\site-packages (from spacy<3.4.0,>=3.3.0.dev0->en-core-web-lg==3.3.0) (3.3.0)\n",
      "Requirement already satisfied: murmurhash<1.1.0,>=0.28.0 in c:\\users\\younes\\anaconda3\\lib\\site-packages (from spacy<3.4.0,>=3.3.0.dev0->en-core-web-lg==3.3.0) (1.0.7)\n",
      "Requirement already satisfied: typer<0.5.0,>=0.3.0 in c:\\users\\younes\\anaconda3\\lib\\site-packages (from spacy<3.4.0,>=3.3.0.dev0->en-core-web-lg==3.3.0) (0.4.2)\n",
      "Requirement already satisfied: thinc<8.1.0,>=8.0.14 in c:\\users\\younes\\anaconda3\\lib\\site-packages (from spacy<3.4.0,>=3.3.0.dev0->en-core-web-lg==3.3.0) (8.0.17)\n",
      "Requirement already satisfied: pyparsing>=2.0.2 in c:\\users\\younes\\anaconda3\\lib\\site-packages (from packaging>=20.0->spacy<3.4.0,>=3.3.0.dev0->en-core-web-lg==3.3.0) (2.4.7)\n",
      "Requirement already satisfied: smart-open<6.0.0,>=5.2.1 in c:\\users\\younes\\anaconda3\\lib\\site-packages (from pathy>=0.3.5->spacy<3.4.0,>=3.3.0.dev0->en-core-web-lg==3.3.0) (5.2.1)\n",
      "Requirement already satisfied: typing-extensions>=3.7.4.3 in c:\\users\\younes\\anaconda3\\lib\\site-packages (from pydantic!=1.8,!=1.8.1,<1.9.0,>=1.7.4->spacy<3.4.0,>=3.3.0.dev0->en-core-web-lg==3.3.0) (3.7.4.3)\n",
      "Requirement already satisfied: idna<3,>=2.5 in c:\\users\\younes\\anaconda3\\lib\\site-packages (from requests<3.0.0,>=2.13.0->spacy<3.4.0,>=3.3.0.dev0->en-core-web-lg==3.3.0) (2.10)\n",
      "Requirement already satisfied: urllib3<1.27,>=1.21.1 in c:\\users\\younes\\anaconda3\\lib\\site-packages (from requests<3.0.0,>=2.13.0->spacy<3.4.0,>=3.3.0.dev0->en-core-web-lg==3.3.0) (1.26.4)\n",
      "Requirement already satisfied: certifi>=2017.4.17 in c:\\users\\younes\\anaconda3\\lib\\site-packages (from requests<3.0.0,>=2.13.0->spacy<3.4.0,>=3.3.0.dev0->en-core-web-lg==3.3.0) (2020.12.5)\n",
      "Requirement already satisfied: chardet<5,>=3.0.2 in c:\\users\\younes\\anaconda3\\lib\\site-packages (from requests<3.0.0,>=2.13.0->spacy<3.4.0,>=3.3.0.dev0->en-core-web-lg==3.3.0) (4.0.0)\n"
     ]
    },
    {
     "name": "stdout",
     "output_type": "stream",
     "text": [
      "Requirement already satisfied: click<9.0.0,>=7.1.1 in c:\\users\\younes\\anaconda3\\lib\\site-packages (from typer<0.5.0,>=0.3.0->spacy<3.4.0,>=3.3.0.dev0->en-core-web-lg==3.3.0) (7.1.2)\n",
      "Requirement already satisfied: MarkupSafe>=0.23 in c:\\users\\younes\\anaconda3\\lib\\site-packages (from jinja2->spacy<3.4.0,>=3.3.0.dev0->en-core-web-lg==3.3.0) (1.1.1)\n",
      "Installing collected packages: en-core-web-lg\n",
      "Successfully installed en-core-web-lg-3.3.0\n",
      "[+] Download and installation successful\n",
      "You can now load the package via spacy.load('en_core_web_lg')\n"
     ]
    }
   ],
   "source": [
    "!pip install neo4j spacy\n",
    "!python -m spacy download en_core_web_lg"
   ]
  },
  {
   "cell_type": "markdown",
   "id": "09665ef9",
   "metadata": {},
   "source": [
    "# Data preprocessing"
   ]
  },
  {
   "cell_type": "code",
   "execution_count": null,
   "id": "42f824d6",
   "metadata": {},
   "outputs": [],
   "source": [
    "# https://www.gutenberg.org/ebooks/95 Prisoner of Zelda\n",
    "\n",
    "# Fetch the data\n",
    "target_url = 'https://www.gutenberg.org/files/95/95-0.txt'\n",
    "import urllib.request\n",
    "data = urllib.request.urlopen(target_url)\n",
    "raw_data = data.read().decode('utf8').strip()\n",
    "\n",
    "# Preprocess text into chapters \n",
    "import re\n",
    "chapters = re.sub('[^A-z0-9 -]', ' ', raw_data).split('CHAPTER')[1:]\n",
    "chapters[-1] = chapters[-1].split('End of the Project Gutenberg EBook')[0]"
   ]
  },
  {
   "cell_type": "markdown",
   "id": "092982a1",
   "metadata": {},
   "source": [
    "# Import into Neo4j"
   ]
  },
  {
   "cell_type": "code",
   "execution_count": 3,
   "id": "4c4812c0",
   "metadata": {},
   "outputs": [],
   "source": [
    "# import spacy and load an NLP model\n",
    "import spacy\n",
    "nlp = spacy.load(\"en_core_web_lg\", disable=[\"tagger\", \"parser\"])"
   ]
  },
  {
   "cell_type": "code",
   "execution_count": 4,
   "id": "c4e57c81",
   "metadata": {},
   "outputs": [],
   "source": [
    "# Import Neo4j and define cypher queries\n",
    "import neo4j\n",
    "host = 'bolt://localhost:7687'\n",
    "user = 'neo4j'\n",
    "password = 'yousef'\n",
    "\n",
    "driver = neo4j.GraphDatabase.driver(host, auth=(user, password))\n",
    "\n",
    "save_query =\"\"\"\n",
    "MERGE (p1:Person{name:$name1})\n",
    "MERGE (p2:Person{name:$name2})\n",
    "MERGE (p1)-[r:RELATED]-(p2)\n",
    "ON CREATE SET r.score = 1\n",
    "ON MATCH SET r.score = r.score + 1\"\"\"\n",
    "\n",
    "constraint_query=\"CREATE CONSTRAINT ON (p:Person) ASSERT p.name IS UNIQUE;\""
   ]
  },
  {
   "cell_type": "code",
   "execution_count": 5,
   "id": "c6b5d306",
   "metadata": {
    "scrolled": true
   },
   "outputs": [
    {
     "name": "stderr",
     "output_type": "stream",
     "text": [
      "C:\\Users\\Younes\\anaconda3\\lib\\site-packages\\spacy\\pipeline\\lemmatizer.py:211: UserWarning: [W108] The rule-based lemmatizer did not find POS annotation for one or more tokens. Check that your pipeline includes components that assign token.pos, typically 'tagger'+'attribute_ruler' or 'morphologizer'.\n",
      "  warnings.warn(Warnings.W108)\n"
     ]
    },
    {
     "name": "stdout",
     "output_type": "stream",
     "text": [
      "Rudolf    Rose\n",
      "Rassendyll Robert\n",
      "Robert Robert  \n",
      "Rudolf Rose\n",
      "Rudolf Robert  \n",
      "Robert   Rudolf   \n",
      "Lady Burlesdon George II\n",
      "Burlesdon Rassendyll\n",
      "Rassendyll Garter\n",
      "Garter Rudolf\n",
      "Jacob Jacob       \n",
      "Jacob        Rudolf\n",
      "Bob Rose\n"
     ]
    }
   ],
   "source": [
    "# Run the analysis of the first chapter\n",
    "c = chapters[0]\n",
    "# Get involved\n",
    "doc=nlp(c)\n",
    "\n",
    "with driver.session() as session:\n",
    "    #define constraint\n",
    "    session.run(constraint_query)\n",
    "    # Extract Person labels\n",
    "    involved = list(set([ent.text for ent in doc.ents if ent.label_=='PERSON']))\n",
    "    # Preprocess text\n",
    "    decode = dict()\n",
    "    for i,x in enumerate(involved):\n",
    "        # Get mapping\n",
    "        decode['$${}$$'.format(i)] = x\n",
    "        # Preprocess text\n",
    "        c = c.replace(x,' $${}$$ '.format(i))\n",
    "        \n",
    "    # Split chapter into words\n",
    "    ws = c.split()\n",
    "    l = len(ws)\n",
    "    # Iterate through words\n",
    "    for wi,w in enumerate(ws):\n",
    "        # Skip if the word is not a person\n",
    "        if not w[:2] == '$$':\n",
    "            continue\n",
    "        # Check next x words for any involved person\n",
    "        x = 14\n",
    "        for i in range(wi+1,wi+x):\n",
    "            # Avoid list index error\n",
    "            if i >= l:\n",
    "                break\n",
    "            # Skip if the word is not a person\n",
    "            if not ws[i][:2] == '$$':\n",
    "                continue\n",
    "            # Store to Neo4j\n",
    "            params = {'name1':decode[ws[wi]],'name2':decode[ws[i]]}\n",
    "            session.run(save_query, params)\n",
    "            print(decode[ws[wi]],decode[ws[i]])"
   ]
  },
  {
   "cell_type": "markdown",
   "id": "244d9182",
   "metadata": {},
   "source": [
    "# Graph Analysis"
   ]
  },
  {
   "cell_type": "code",
   "execution_count": 6,
   "id": "20209fa5",
   "metadata": {},
   "outputs": [],
   "source": [
    "# Project the graph\n",
    "graph_projection = \"\"\"\n",
    "CALL gds.graph.project('ch1', 'Person', {RELATED:{orientation:'UNDIRECTED'}})\n",
    "\"\"\"\n",
    "\n",
    "# Run pagerank and louvain algorithm\n",
    "pagerank =\"\"\"\n",
    "CALL gds.pageRank.write('ch1',{writeProperty:'pagerank'})\n",
    "\"\"\"\n",
    "louvain = \"\"\"\n",
    "CALL gds.louvain.write('ch1',{writeProperty:'louvain'})\n",
    "\"\"\"\n",
    "\n",
    "drop_graph = \"\"\"\n",
    "CALL gds.graph.drop('ch1')\n",
    "\"\"\"\n",
    "\n",
    "with driver.session() as session:\n",
    "    session.run(graph_projection)\n",
    "    session.run(pagerank)\n",
    "    session.run(louvain)\n",
    "    session.run(drop_graph)"
   ]
  },
  {
   "cell_type": "markdown",
   "id": "cda67a70",
   "metadata": {},
   "source": [
    "# Results"
   ]
  },
  {
   "cell_type": "code",
   "execution_count": 7,
   "id": "334b0962",
   "metadata": {},
   "outputs": [],
   "source": [
    "# Import libraries\n",
    "import pandas as pd\n",
    "\n",
    "def read_query(query, params={}):\n",
    "    with driver.session() as session:\n",
    "        result = session.run(query, params)\n",
    "        return pd.DataFrame([r.values() for r in result], columns=result.keys())"
   ]
  },
  {
   "cell_type": "code",
   "execution_count": 8,
   "id": "b00f1b05",
   "metadata": {},
   "outputs": [
    {
     "data": {
      "text/html": [
       "<div>\n",
       "<style scoped>\n",
       "    .dataframe tbody tr th:only-of-type {\n",
       "        vertical-align: middle;\n",
       "    }\n",
       "\n",
       "    .dataframe tbody tr th {\n",
       "        vertical-align: top;\n",
       "    }\n",
       "\n",
       "    .dataframe thead th {\n",
       "        text-align: right;\n",
       "    }\n",
       "</style>\n",
       "<table border=\"1\" class=\"dataframe\">\n",
       "  <thead>\n",
       "    <tr style=\"text-align: right;\">\n",
       "      <th></th>\n",
       "      <th>character</th>\n",
       "      <th>score</th>\n",
       "    </tr>\n",
       "  </thead>\n",
       "  <tbody>\n",
       "    <tr>\n",
       "      <th>0</th>\n",
       "      <td>Rudolf</td>\n",
       "      <td>1.623691</td>\n",
       "    </tr>\n",
       "    <tr>\n",
       "      <th>1</th>\n",
       "      <td>Rassendyll</td>\n",
       "      <td>1.318450</td>\n",
       "    </tr>\n",
       "    <tr>\n",
       "      <th>2</th>\n",
       "      <td>Rose</td>\n",
       "      <td>1.284447</td>\n",
       "    </tr>\n",
       "    <tr>\n",
       "      <th>3</th>\n",
       "      <td>Robert</td>\n",
       "      <td>1.216617</td>\n",
       "    </tr>\n",
       "    <tr>\n",
       "      <th>4</th>\n",
       "      <td>Jacob</td>\n",
       "      <td>0.962938</td>\n",
       "    </tr>\n",
       "  </tbody>\n",
       "</table>\n",
       "</div>"
      ],
      "text/plain": [
       "      character     score\n",
       "0        Rudolf  1.623691\n",
       "1    Rassendyll  1.318450\n",
       "2          Rose  1.284447\n",
       "3      Robert    1.216617\n",
       "4  Jacob         0.962938"
      ]
     },
     "execution_count": 8,
     "metadata": {},
     "output_type": "execute_result"
    }
   ],
   "source": [
    "# Evaluate pagerank\n",
    "read_query(\"\"\"\n",
    "MATCH (c:Person)\n",
    "RETURN c.name AS character, c.pagerank AS score\n",
    "ORDER BY score DESC LIMIT 5\n",
    "\"\"\")"
   ]
  },
  {
   "cell_type": "code",
   "execution_count": 9,
   "id": "d9267f85",
   "metadata": {},
   "outputs": [
    {
     "data": {
      "text/html": [
       "<div>\n",
       "<style scoped>\n",
       "    .dataframe tbody tr th:only-of-type {\n",
       "        vertical-align: middle;\n",
       "    }\n",
       "\n",
       "    .dataframe tbody tr th {\n",
       "        vertical-align: top;\n",
       "    }\n",
       "\n",
       "    .dataframe thead th {\n",
       "        text-align: right;\n",
       "    }\n",
       "</style>\n",
       "<table border=\"1\" class=\"dataframe\">\n",
       "  <thead>\n",
       "    <tr style=\"text-align: right;\">\n",
       "      <th></th>\n",
       "      <th>community</th>\n",
       "      <th>members</th>\n",
       "    </tr>\n",
       "  </thead>\n",
       "  <tbody>\n",
       "    <tr>\n",
       "      <th>0</th>\n",
       "      <td>4</td>\n",
       "      <td>[Rassendyll, Robert, Robert  , Burlesdon]</td>\n",
       "    </tr>\n",
       "    <tr>\n",
       "      <th>1</th>\n",
       "      <td>9</td>\n",
       "      <td>[Rudolf, Garter, Jacob, Jacob       ]</td>\n",
       "    </tr>\n",
       "    <tr>\n",
       "      <th>2</th>\n",
       "      <td>1</td>\n",
       "      <td>[Rudolf   , Rose, Bob]</td>\n",
       "    </tr>\n",
       "    <tr>\n",
       "      <th>3</th>\n",
       "      <td>7</td>\n",
       "      <td>[Lady Burlesdon, George II]</td>\n",
       "    </tr>\n",
       "  </tbody>\n",
       "</table>\n",
       "</div>"
      ],
      "text/plain": [
       "   community                                    members\n",
       "0          4  [Rassendyll, Robert, Robert  , Burlesdon]\n",
       "1          9      [Rudolf, Garter, Jacob, Jacob       ]\n",
       "2          1                     [Rudolf   , Rose, Bob]\n",
       "3          7                [Lady Burlesdon, George II]"
      ]
     },
     "execution_count": 9,
     "metadata": {},
     "output_type": "execute_result"
    }
   ],
   "source": [
    "# Evaluate louvain\n",
    "read_query(\"\"\"\n",
    "MATCH (c:Person)\n",
    "RETURN c.louvain AS community, collect(c.name) AS members\n",
    "ORDER BY size(members) DESC\n",
    "\"\"\")"
   ]
  }
 ],
 "metadata": {
  "kernelspec": {
   "display_name": "Python 3",
   "language": "python",
   "name": "python3"
  },
  "language_info": {
   "codemirror_mode": {
    "name": "ipython",
    "version": 3
   },
   "file_extension": ".py",
   "mimetype": "text/x-python",
   "name": "python",
   "nbconvert_exporter": "python",
   "pygments_lexer": "ipython3",
   "version": "3.8.8"
  }
 },
 "nbformat": 4,
 "nbformat_minor": 5
}
